{
 "cells": [
  {
   "cell_type": "markdown",
   "metadata": {
    "editable": true
   },
   "source": [
    "# Enriching covid data with region information\n",
    "### Data Engineering Capstone Project\n",
    "\n",
    "#### Project Summary\n",
    "Enrich a covid dataset with information about city, city micro and macro region using PySpark and Pandas in order now we can also make analysis from those new region areas and maybe help city halls, state overnment or even the federal government to better distribute resources (money, health equipments, vaccines and so on) \n",
    "\n",
    "The project follows the follow steps:\n",
    "* Step 1: Scope the Project and Gather Data\n",
    "* Step 2: Explore and Assess the Data\n",
    "* Step 3: Define the Data Model\n",
    "* Step 4: Run ETL to Model the Data\n",
    "* Step 5: Complete Project Write Up"
   ]
  },
  {
   "cell_type": "code",
   "execution_count": 103,
   "metadata": {
    "editable": true
   },
   "outputs": [],
   "source": [
    "# Do all imports and installs here\n",
    "import pandas as pd\n",
    "import matplotlib.pyplot as plt\n",
    "import numpy as np\n",
    "import os\n",
    "from pyspark.sql import SparkSession\n",
    "from pyspark.sql.functions import isnan, when, count, col, unix_timestamp, from_unixtime, udf, sum as _sum, dayofmonth, dayofweek, month, year, weekofyear\n",
    "from pyspark.sql.types import DateType\n",
    "from pyspark.sql import Window\n",
    "import sys\n",
    "import datetime\n",
    "\n",
    "\n",
    "# because an issue when creating spark session-> Exception: Java gateway process exited before sending its port number\n",
    "os.environ[\"JAVA_HOME\"] = \"/usr/lib/jvm/java-8-openjdk-amd64\"\n",
    "os.environ[\"PATH\"] = \"/opt/conda/bin:/opt/spark-2.4.3-bin-hadoop2.7/bin:/opt/conda/bin:/usr/local/sbin:/usr/local/bin:/usr/sbin:/usr/bin:/sbin:/bin:/usr/lib/jvm/java-8-openjdk-amd64/bin\"\n",
    "os.environ[\"SPARK_HOME\"] = \"/opt/spark-2.4.3-bin-hadoop2.7\"\n",
    "os.environ[\"HADOOP_HOME\"] = \"/opt/spark-2.4.3-bin-hadoop2.7\"\n",
    "\n",
    "os.environ['AWS_ACCESS_KEY_ID']=\"\"\n",
    "os.environ['AWS_SECRET_ACCESS_KEY']=\"\""
   ]
  },
  {
   "cell_type": "code",
   "execution_count": 104,
   "metadata": {
    "editable": true
   },
   "outputs": [],
   "source": [
    "# Create Spark Session\n",
    "spark = SparkSession.builder.\\\n",
    "    config(\"spark.jars.repositories\", \"https://repos.spark-packages.org/\").\\\n",
    "    config(\"spark.jars.packages\",\"saurfang:spark-sas7bdat:2.0.0-s_2.11\").\\\n",
    "    enableHiveSupport().getOrCreate()"
   ]
  },
  {
   "cell_type": "markdown",
   "metadata": {
    "editable": true
   },
   "source": [
    "### Step 1: Scope the Project and Gather Data\n",
    "\n",
    "#### Scope \n",
    "\n",
    "1. This project intend to get relations between the covid cases and cities regions in Brazil.\n",
    "1. It will use 2 datasources, one which contain covid cases and another focused on city information to enrich the fisrt and get better insights.\n",
    "1. Will use the PySpark to process and handle data.\n",
    "\n",
    "#### Describe and Gather Data \n",
    "\n",
    "1. **Covid data:** This dataset is from Kaggle.\n",
    "   It's basically a csv file where we can find the data about covid cases and deaths in Brazil, by date and city.\n",
    "   https://www.kaggle.com/rafaelherrero/covid19-brazil-full-cases-17062021\n",
    "2. **Brazil city information:** In this dataset is where we can find more information about the city as the city state,\n",
    "   macro and micro region. https://www.ibge.gov.br/explica/codigos-dos-municipios.php#PR\n"
   ]
  },
  {
   "cell_type": "code",
   "execution_count": 105,
   "metadata": {
    "editable": true
   },
   "outputs": [],
   "source": [
    "# Read in the data here\n",
    "df = spark.read.format(\"csv\").option(\"header\", \"true\").load(\"caso_full.csv\")"
   ]
  },
  {
   "cell_type": "code",
   "execution_count": 106,
   "metadata": {
    "editable": true
   },
   "outputs": [
    {
     "data": {
      "text/html": [
       "<div>\n",
       "<style scoped>\n",
       "    .dataframe tbody tr th:only-of-type {\n",
       "        vertical-align: middle;\n",
       "    }\n",
       "\n",
       "    .dataframe tbody tr th {\n",
       "        vertical-align: top;\n",
       "    }\n",
       "\n",
       "    .dataframe thead th {\n",
       "        text-align: right;\n",
       "    }\n",
       "</style>\n",
       "<table border=\"1\" class=\"dataframe\">\n",
       "  <thead>\n",
       "    <tr style=\"text-align: right;\">\n",
       "      <th></th>\n",
       "      <th>city</th>\n",
       "      <th>city_ibge_code</th>\n",
       "      <th>date</th>\n",
       "      <th>epidemiological_week</th>\n",
       "      <th>estimated_population</th>\n",
       "      <th>estimated_population_2019</th>\n",
       "      <th>is_last</th>\n",
       "      <th>is_repeated</th>\n",
       "      <th>last_available_confirmed</th>\n",
       "      <th>last_available_confirmed_per_100k_inhabitants</th>\n",
       "      <th>last_available_date</th>\n",
       "      <th>last_available_death_rate</th>\n",
       "      <th>last_available_deaths</th>\n",
       "      <th>order_for_place</th>\n",
       "      <th>place_type</th>\n",
       "      <th>state</th>\n",
       "      <th>new_confirmed</th>\n",
       "      <th>new_deaths</th>\n",
       "    </tr>\n",
       "  </thead>\n",
       "  <tbody>\n",
       "    <tr>\n",
       "      <th>0</th>\n",
       "      <td>Rio Branco</td>\n",
       "      <td>1200401</td>\n",
       "      <td>2020-03-17</td>\n",
       "      <td>202012</td>\n",
       "      <td>413418</td>\n",
       "      <td>407319</td>\n",
       "      <td>False</td>\n",
       "      <td>False</td>\n",
       "      <td>3</td>\n",
       "      <td>0.72566</td>\n",
       "      <td>2020-03-17</td>\n",
       "      <td>0.0000</td>\n",
       "      <td>0</td>\n",
       "      <td>1</td>\n",
       "      <td>city</td>\n",
       "      <td>AC</td>\n",
       "      <td>3</td>\n",
       "      <td>0</td>\n",
       "    </tr>\n",
       "    <tr>\n",
       "      <th>1</th>\n",
       "      <td>None</td>\n",
       "      <td>12</td>\n",
       "      <td>2020-03-17</td>\n",
       "      <td>202012</td>\n",
       "      <td>894470</td>\n",
       "      <td>881935</td>\n",
       "      <td>False</td>\n",
       "      <td>False</td>\n",
       "      <td>3</td>\n",
       "      <td>0.33539</td>\n",
       "      <td>2020-03-17</td>\n",
       "      <td>0.0000</td>\n",
       "      <td>0</td>\n",
       "      <td>1</td>\n",
       "      <td>state</td>\n",
       "      <td>AC</td>\n",
       "      <td>3</td>\n",
       "      <td>0</td>\n",
       "    </tr>\n",
       "    <tr>\n",
       "      <th>2</th>\n",
       "      <td>Rio Branco</td>\n",
       "      <td>1200401</td>\n",
       "      <td>2020-03-18</td>\n",
       "      <td>202012</td>\n",
       "      <td>413418</td>\n",
       "      <td>407319</td>\n",
       "      <td>False</td>\n",
       "      <td>False</td>\n",
       "      <td>3</td>\n",
       "      <td>0.72566</td>\n",
       "      <td>2020-03-18</td>\n",
       "      <td>0.0000</td>\n",
       "      <td>0</td>\n",
       "      <td>2</td>\n",
       "      <td>city</td>\n",
       "      <td>AC</td>\n",
       "      <td>0</td>\n",
       "      <td>0</td>\n",
       "    </tr>\n",
       "    <tr>\n",
       "      <th>3</th>\n",
       "      <td>None</td>\n",
       "      <td>12</td>\n",
       "      <td>2020-03-18</td>\n",
       "      <td>202012</td>\n",
       "      <td>894470</td>\n",
       "      <td>881935</td>\n",
       "      <td>False</td>\n",
       "      <td>False</td>\n",
       "      <td>3</td>\n",
       "      <td>0.33539</td>\n",
       "      <td>2020-03-18</td>\n",
       "      <td>0.0000</td>\n",
       "      <td>0</td>\n",
       "      <td>2</td>\n",
       "      <td>state</td>\n",
       "      <td>AC</td>\n",
       "      <td>0</td>\n",
       "      <td>0</td>\n",
       "    </tr>\n",
       "    <tr>\n",
       "      <th>4</th>\n",
       "      <td>Rio Branco</td>\n",
       "      <td>1200401</td>\n",
       "      <td>2020-03-19</td>\n",
       "      <td>202012</td>\n",
       "      <td>413418</td>\n",
       "      <td>407319</td>\n",
       "      <td>False</td>\n",
       "      <td>False</td>\n",
       "      <td>4</td>\n",
       "      <td>0.96754</td>\n",
       "      <td>2020-03-19</td>\n",
       "      <td>0.0000</td>\n",
       "      <td>0</td>\n",
       "      <td>3</td>\n",
       "      <td>city</td>\n",
       "      <td>AC</td>\n",
       "      <td>1</td>\n",
       "      <td>0</td>\n",
       "    </tr>\n",
       "  </tbody>\n",
       "</table>\n",
       "</div>"
      ],
      "text/plain": [
       "         city city_ibge_code        date epidemiological_week  \\\n",
       "0  Rio Branco        1200401  2020-03-17               202012   \n",
       "1        None             12  2020-03-17               202012   \n",
       "2  Rio Branco        1200401  2020-03-18               202012   \n",
       "3        None             12  2020-03-18               202012   \n",
       "4  Rio Branco        1200401  2020-03-19               202012   \n",
       "\n",
       "  estimated_population estimated_population_2019 is_last is_repeated  \\\n",
       "0               413418                    407319   False       False   \n",
       "1               894470                    881935   False       False   \n",
       "2               413418                    407319   False       False   \n",
       "3               894470                    881935   False       False   \n",
       "4               413418                    407319   False       False   \n",
       "\n",
       "  last_available_confirmed last_available_confirmed_per_100k_inhabitants  \\\n",
       "0                        3                                       0.72566   \n",
       "1                        3                                       0.33539   \n",
       "2                        3                                       0.72566   \n",
       "3                        3                                       0.33539   \n",
       "4                        4                                       0.96754   \n",
       "\n",
       "  last_available_date last_available_death_rate last_available_deaths  \\\n",
       "0          2020-03-17                    0.0000                     0   \n",
       "1          2020-03-17                    0.0000                     0   \n",
       "2          2020-03-18                    0.0000                     0   \n",
       "3          2020-03-18                    0.0000                     0   \n",
       "4          2020-03-19                    0.0000                     0   \n",
       "\n",
       "  order_for_place place_type state new_confirmed new_deaths  \n",
       "0               1       city    AC             3          0  \n",
       "1               1      state    AC             3          0  \n",
       "2               2       city    AC             0          0  \n",
       "3               2      state    AC             0          0  \n",
       "4               3       city    AC             1          0  "
      ]
     },
     "execution_count": 106,
     "metadata": {},
     "output_type": "execute_result"
    }
   ],
   "source": [
    "df.limit(5).toPandas()"
   ]
  },
  {
   "cell_type": "code",
   "execution_count": 107,
   "metadata": {
    "editable": true
   },
   "outputs": [
    {
     "data": {
      "text/plain": [
       "2258704"
      ]
     },
     "execution_count": 107,
     "metadata": {},
     "output_type": "execute_result"
    }
   ],
   "source": [
    "df.count()"
   ]
  },
  {
   "cell_type": "code",
   "execution_count": 108,
   "metadata": {
    "editable": true
   },
   "outputs": [],
   "source": [
    "df_cities_region = spark.read.format(\"csv\").option(\"delimiter\",\";\").option(\"header\", \"true\").load(\"BRAZIL_CITIES_REGION.csv\")"
   ]
  },
  {
   "cell_type": "code",
   "execution_count": 109,
   "metadata": {
    "editable": true
   },
   "outputs": [
    {
     "data": {
      "text/html": [
       "<div>\n",
       "<style scoped>\n",
       "    .dataframe tbody tr th:only-of-type {\n",
       "        vertical-align: middle;\n",
       "    }\n",
       "\n",
       "    .dataframe tbody tr th {\n",
       "        vertical-align: top;\n",
       "    }\n",
       "\n",
       "    .dataframe thead th {\n",
       "        text-align: right;\n",
       "    }\n",
       "</style>\n",
       "<table border=\"1\" class=\"dataframe\">\n",
       "  <thead>\n",
       "    <tr style=\"text-align: right;\">\n",
       "      <th></th>\n",
       "      <th>UF</th>\n",
       "      <th>Nome_UF</th>\n",
       "      <th>Mesorregião Geográfica</th>\n",
       "      <th>Nome_Mesorregião</th>\n",
       "      <th>Microrregião Geográfica</th>\n",
       "      <th>Nome_Microrregião</th>\n",
       "      <th>Município</th>\n",
       "      <th>Código Município Completo</th>\n",
       "      <th>Nome_Município</th>\n",
       "    </tr>\n",
       "  </thead>\n",
       "  <tbody>\n",
       "    <tr>\n",
       "      <th>0</th>\n",
       "      <td>11</td>\n",
       "      <td>Rondônia</td>\n",
       "      <td>2</td>\n",
       "      <td>Leste Rondoniense</td>\n",
       "      <td>6</td>\n",
       "      <td>Cacoal</td>\n",
       "      <td>15</td>\n",
       "      <td>1100015</td>\n",
       "      <td>Alta Floresta D'Oeste</td>\n",
       "    </tr>\n",
       "    <tr>\n",
       "      <th>1</th>\n",
       "      <td>11</td>\n",
       "      <td>Rondônia</td>\n",
       "      <td>2</td>\n",
       "      <td>Leste Rondoniense</td>\n",
       "      <td>6</td>\n",
       "      <td>Cacoal</td>\n",
       "      <td>379</td>\n",
       "      <td>1100379</td>\n",
       "      <td>Alto Alegre dos Parecis</td>\n",
       "    </tr>\n",
       "    <tr>\n",
       "      <th>2</th>\n",
       "      <td>11</td>\n",
       "      <td>Rondônia</td>\n",
       "      <td>2</td>\n",
       "      <td>Leste Rondoniense</td>\n",
       "      <td>3</td>\n",
       "      <td>Ariquemes</td>\n",
       "      <td>403</td>\n",
       "      <td>1100403</td>\n",
       "      <td>Alto Paraíso</td>\n",
       "    </tr>\n",
       "    <tr>\n",
       "      <th>3</th>\n",
       "      <td>11</td>\n",
       "      <td>Rondônia</td>\n",
       "      <td>2</td>\n",
       "      <td>Leste Rondoniense</td>\n",
       "      <td>5</td>\n",
       "      <td>Alvorada D'Oeste</td>\n",
       "      <td>346</td>\n",
       "      <td>1100346</td>\n",
       "      <td>Alvorada D'Oeste</td>\n",
       "    </tr>\n",
       "    <tr>\n",
       "      <th>4</th>\n",
       "      <td>11</td>\n",
       "      <td>Rondônia</td>\n",
       "      <td>2</td>\n",
       "      <td>Leste Rondoniense</td>\n",
       "      <td>3</td>\n",
       "      <td>Ariquemes</td>\n",
       "      <td>23</td>\n",
       "      <td>1100023</td>\n",
       "      <td>Ariquemes</td>\n",
       "    </tr>\n",
       "  </tbody>\n",
       "</table>\n",
       "</div>"
      ],
      "text/plain": [
       "   UF   Nome_UF Mesorregião Geográfica   Nome_Mesorregião  \\\n",
       "0  11  Rondônia                      2  Leste Rondoniense   \n",
       "1  11  Rondônia                      2  Leste Rondoniense   \n",
       "2  11  Rondônia                      2  Leste Rondoniense   \n",
       "3  11  Rondônia                      2  Leste Rondoniense   \n",
       "4  11  Rondônia                      2  Leste Rondoniense   \n",
       "\n",
       "  Microrregião Geográfica Nome_Microrregião Município  \\\n",
       "0                       6            Cacoal        15   \n",
       "1                       6            Cacoal       379   \n",
       "2                       3         Ariquemes       403   \n",
       "3                       5  Alvorada D'Oeste       346   \n",
       "4                       3         Ariquemes        23   \n",
       "\n",
       "  Código Município Completo           Nome_Município  \n",
       "0                   1100015    Alta Floresta D'Oeste  \n",
       "1                   1100379  Alto Alegre dos Parecis  \n",
       "2                   1100403             Alto Paraíso  \n",
       "3                   1100346         Alvorada D'Oeste  \n",
       "4                   1100023                Ariquemes  "
      ]
     },
     "execution_count": 109,
     "metadata": {},
     "output_type": "execute_result"
    }
   ],
   "source": [
    "df_cities_region.limit(5).toPandas()"
   ]
  },
  {
   "cell_type": "markdown",
   "metadata": {
    "editable": true
   },
   "source": [
    "### Step 2: Explore and Assess the Data\n",
    "#### Explore the Data \n",
    "Identify data quality issues, like missing values, duplicate data, etc.\n",
    "\n",
    "#### Cleaning Steps\n",
    "1. Perform the cast in order to have the right types for each field\n",
    "1. Remove null values from some important fields (city, city_ibge_code..)"
   ]
  },
  {
   "cell_type": "code",
   "execution_count": 110,
   "metadata": {
    "editable": true
   },
   "outputs": [],
   "source": [
    "def perform_column_cast(dataframe, col_name, new_type):\n",
    "    \"\"\"\n",
    "        Function to cast a column given a dataframe\n",
    "        @param dataframe: the dataframe where the column is\n",
    "        @param col_name: to be cast\n",
    "        @param new_type: the new column type\n",
    "        @return The new datafram with the column already cast\n",
    "    \"\"\"\n",
    "    return dataframe.withColumn(col_name, dataframe[col_name].cast(new_type))\n",
    "\n",
    "def remove_null_rows(dataframe, col_name):\n",
    "    \"\"\"\n",
    "        Function to filter a row given a column case it is not null\n",
    "        @param dataframe: the dataframe where the column is\n",
    "        @param col_name: column name\n",
    "        @return The new datafram with the column already cast\n",
    "    \"\"\"\n",
    "    return dataframe.filter(col(col_name).isNotNull())\n",
    "    "
   ]
  },
  {
   "cell_type": "markdown",
   "metadata": {
    "editable": true
   },
   "source": [
    "#### Cleaning the Covid cases dataset"
   ]
  },
  {
   "cell_type": "code",
   "execution_count": 111,
   "metadata": {
    "editable": true
   },
   "outputs": [
    {
     "name": "stdout",
     "output_type": "stream",
     "text": [
      "root\n",
      " |-- city: string (nullable = true)\n",
      " |-- city_ibge_code: string (nullable = true)\n",
      " |-- date: string (nullable = true)\n",
      " |-- epidemiological_week: string (nullable = true)\n",
      " |-- estimated_population: string (nullable = true)\n",
      " |-- estimated_population_2019: string (nullable = true)\n",
      " |-- is_last: string (nullable = true)\n",
      " |-- is_repeated: string (nullable = true)\n",
      " |-- last_available_confirmed: string (nullable = true)\n",
      " |-- last_available_confirmed_per_100k_inhabitants: string (nullable = true)\n",
      " |-- last_available_date: string (nullable = true)\n",
      " |-- last_available_death_rate: string (nullable = true)\n",
      " |-- last_available_deaths: string (nullable = true)\n",
      " |-- order_for_place: string (nullable = true)\n",
      " |-- place_type: string (nullable = true)\n",
      " |-- state: string (nullable = true)\n",
      " |-- new_confirmed: string (nullable = true)\n",
      " |-- new_deaths: string (nullable = true)\n",
      "\n"
     ]
    }
   ],
   "source": [
    "# Performing cleaning tasks here\n",
    "df.printSchema()"
   ]
  },
  {
   "cell_type": "code",
   "execution_count": 112,
   "metadata": {
    "editable": true
   },
   "outputs": [
    {
     "data": {
      "text/html": [
       "<div>\n",
       "<style scoped>\n",
       "    .dataframe tbody tr th:only-of-type {\n",
       "        vertical-align: middle;\n",
       "    }\n",
       "\n",
       "    .dataframe tbody tr th {\n",
       "        vertical-align: top;\n",
       "    }\n",
       "\n",
       "    .dataframe thead th {\n",
       "        text-align: right;\n",
       "    }\n",
       "</style>\n",
       "<table border=\"1\" class=\"dataframe\">\n",
       "  <thead>\n",
       "    <tr style=\"text-align: right;\">\n",
       "      <th></th>\n",
       "      <th>city</th>\n",
       "      <th>city_ibge_code</th>\n",
       "      <th>date</th>\n",
       "      <th>epidemiological_week</th>\n",
       "      <th>estimated_population</th>\n",
       "      <th>estimated_population_2019</th>\n",
       "      <th>is_last</th>\n",
       "      <th>is_repeated</th>\n",
       "      <th>last_available_confirmed</th>\n",
       "      <th>last_available_confirmed_per_100k_inhabitants</th>\n",
       "      <th>last_available_date</th>\n",
       "      <th>last_available_death_rate</th>\n",
       "      <th>last_available_deaths</th>\n",
       "      <th>order_for_place</th>\n",
       "      <th>place_type</th>\n",
       "      <th>state</th>\n",
       "      <th>new_confirmed</th>\n",
       "      <th>new_deaths</th>\n",
       "    </tr>\n",
       "  </thead>\n",
       "  <tbody>\n",
       "    <tr>\n",
       "      <th>0</th>\n",
       "      <td>12451</td>\n",
       "      <td>8250</td>\n",
       "      <td>0</td>\n",
       "      <td>0</td>\n",
       "      <td>8250</td>\n",
       "      <td>8250</td>\n",
       "      <td>0</td>\n",
       "      <td>0</td>\n",
       "      <td>0</td>\n",
       "      <td>23769</td>\n",
       "      <td>0</td>\n",
       "      <td>0</td>\n",
       "      <td>0</td>\n",
       "      <td>0</td>\n",
       "      <td>0</td>\n",
       "      <td>0</td>\n",
       "      <td>0</td>\n",
       "      <td>0</td>\n",
       "    </tr>\n",
       "  </tbody>\n",
       "</table>\n",
       "</div>"
      ],
      "text/plain": [
       "    city  city_ibge_code  date  epidemiological_week  estimated_population  \\\n",
       "0  12451            8250     0                     0                  8250   \n",
       "\n",
       "   estimated_population_2019  is_last  is_repeated  last_available_confirmed  \\\n",
       "0                       8250        0            0                         0   \n",
       "\n",
       "   last_available_confirmed_per_100k_inhabitants  last_available_date  \\\n",
       "0                                          23769                    0   \n",
       "\n",
       "   last_available_death_rate  last_available_deaths  order_for_place  \\\n",
       "0                          0                      0                0   \n",
       "\n",
       "   place_type  state  new_confirmed  new_deaths  \n",
       "0           0      0              0           0  "
      ]
     },
     "execution_count": 112,
     "metadata": {},
     "output_type": "execute_result"
    }
   ],
   "source": [
    "# Count null collumns to explore a little the dataset\n",
    "df.select([count(when(col(c).isNull(), c)).alias(c) for c in df.columns]).toPandas()"
   ]
  },
  {
   "cell_type": "code",
   "execution_count": 113,
   "metadata": {
    "editable": true
   },
   "outputs": [
    {
     "name": "stdout",
     "output_type": "stream",
     "text": [
      "root\n",
      " |-- city: string (nullable = true)\n",
      " |-- city_ibge_code: integer (nullable = true)\n",
      " |-- date: date (nullable = true)\n",
      " |-- epidemiological_week: string (nullable = true)\n",
      " |-- estimated_population: string (nullable = true)\n",
      " |-- estimated_population_2019: string (nullable = true)\n",
      " |-- is_last: boolean (nullable = true)\n",
      " |-- is_repeated: boolean (nullable = true)\n",
      " |-- last_available_confirmed: string (nullable = true)\n",
      " |-- last_available_confirmed_per_100k_inhabitants: string (nullable = true)\n",
      " |-- last_available_date: string (nullable = true)\n",
      " |-- last_available_death_rate: string (nullable = true)\n",
      " |-- last_available_deaths: string (nullable = true)\n",
      " |-- order_for_place: integer (nullable = true)\n",
      " |-- place_type: string (nullable = true)\n",
      " |-- state: string (nullable = true)\n",
      " |-- new_confirmed: integer (nullable = true)\n",
      " |-- new_deaths: integer (nullable = true)\n",
      "\n"
     ]
    }
   ],
   "source": [
    "#Give the right type for columns\n",
    "df_cleaned = df\n",
    "df_cleaned = perform_column_cast(df_cleaned, \"city_ibge_code\", 'int')\n",
    "df_cleaned = perform_column_cast(df_cleaned, \"new_confirmed\", 'int')\n",
    "df_cleaned = perform_column_cast(df_cleaned, \"new_deaths\", 'int')\n",
    "df_cleaned = perform_column_cast(df_cleaned, \"order_for_place\", 'int')\n",
    "df_cleaned = perform_column_cast(df_cleaned, \"is_last\", 'boolean')\n",
    "df_cleaned = perform_column_cast(df_cleaned, \"is_repeated\", 'boolean')\n",
    "df_cleaned = perform_column_cast(df_cleaned, \"date\", DateType())\n",
    "\n",
    "\n",
    "#remove rows where we have the city as null\n",
    "df_cleaned = remove_null_rows(df_cleaned, 'city')\n",
    "df_cleaned = remove_null_rows(df_cleaned, 'city_ibge_code')\n",
    "\n",
    "\n",
    "df_cleaned.printSchema()"
   ]
  },
  {
   "cell_type": "code",
   "execution_count": 114,
   "metadata": {
    "editable": true
   },
   "outputs": [
    {
     "name": "stdout",
     "output_type": "stream",
     "text": [
      "Numbers of cities in covid dataset:  5297\n"
     ]
    }
   ],
   "source": [
    "# Checking fot the number of cities\n",
    "cities_number = df_cleaned.filter((df_cleaned.place_type=='city') & ~(df_cleaned.city.isNull())).select('city').distinct().count()\n",
    "print(\"Numbers of cities in covid dataset: \", cities_number)"
   ]
  },
  {
   "cell_type": "code",
   "execution_count": 115,
   "metadata": {
    "editable": true
   },
   "outputs": [
    {
     "name": "stdout",
     "output_type": "stream",
     "text": [
      "Numbers of states in covid dataset:  27\n"
     ]
    }
   ],
   "source": [
    "# Checking the states number\n",
    "states_number = df_cleaned.select('state').distinct().count()\n",
    "print(\"Numbers of states in covid dataset: \", states_number)"
   ]
  },
  {
   "cell_type": "code",
   "execution_count": 116,
   "metadata": {
    "editable": true
   },
   "outputs": [],
   "source": [
    "df_sum = df_cleaned.filter(col('place_type')=='city').groupBy(\"date\").agg(_sum(\"new_confirmed\").alias(\"confirmed_cases\"), \\\n",
    "                                                                          _sum(\"new_deaths\").alias(\"deaths\")).sort('date').toPandas()"
   ]
  },
  {
   "cell_type": "code",
   "execution_count": 117,
   "metadata": {
    "editable": true
   },
   "outputs": [
    {
     "data": {
      "text/plain": [
       "array([     1,      0,      0,      1,      0,      0,      0,      0,\n",
       "            1,      4,      2,      9,      6,      0,      4,     14,\n",
       "           45,      7,     37,     19,    121,     46,    185,    119,\n",
       "          233,    206,    197,    247,    259,    732,    396,    483,\n",
       "          295,    312,    577,   1154,   1093,   1157,   1102,   1111,\n",
       "         1090,    828,   1816,   2151,   1907,   1754,   1058,   1469,\n",
       "         1386,   1921,   3221,   2099,   3274,   2747,   1863,   1847,\n",
       "         2757,   2757,   3861,   2906,   5075,   4897,   4197,   6201,\n",
       "         6093,   7382,   5444,   4980,   4212,   6911,   7132,   9864,\n",
       "        10753,   9636,  10823,   6194,   6251,   9548,  11563,  13988,\n",
       "        15159,  14052,   7642,  14157,  13184,  21313,  19221,  21951,\n",
       "        18126,  14266,  12782,  16092,  20205,  28074,  26701,  32375,\n",
       "        13115,  14986,  31509,  25665,  31617,  31701,  23834,  18044,\n",
       "        17429,  30430,  33970,  27855,  25307,  20600,  17305,  23922,\n",
       "        36614,  30664,  24222,  54232,  30267,  16826,  26137,  38955,\n",
       "        41046,  41334,  43983,  36258,  32771,  21868,  37788,  45672,\n",
       "        45353,  41881,  31830,  28362,  23746,  45752,  44855,  42939,\n",
       "        43961,  33935,  24941,  22372,  39693,  41391,  43864,  34650,\n",
       "        23428,  25192,  23034,  45394,  64135,  57732,  54840,  47947,\n",
       "        23079,  29539,  51664,  54901,  56982,  50366,  41724,  22043,\n",
       "        25745,  52350,  51765,  59001,  47804,  44212,  19939,  33110,\n",
       "        44914,  54325,  58519,  47092,  33338,  20313,  28664,  42883,\n",
       "        48321,  39467,  34787,  39185,  16579,  26545,  47884,  46158,\n",
       "        37976,  42774,  29736,  17921,  53823,  41061,  44323,  45117,\n",
       "        38705,  29358,  11716,  14443,  18576,  34732,  39222,  39592,\n",
       "        25749,  12486,  24171,  32239,  35729,  30711,  42060,  26084,\n",
       "        13447,  20700,  30878,  33136,  30783,  30953,  20913,  11836,\n",
       "        20558,  30674,  31671,  34872,  31417,  19076,   6693,  28335,\n",
       "        28314,  26624,  31753,  26797,  20341,   9922,  12117,  11781,\n",
       "        28105,  29167,  21101,  20342,  14813,  20191,  22181,  25169,\n",
       "        23541,  28379,  23170,  10311,  21991,  27955,  27996,  26061,\n",
       "        20133,  11561,   9653,   8162,  18405,  23443,  20726,  20571,\n",
       "        14953,  10259,  14814,  46198,  22418,  32134,  37904,  25418,\n",
       "        12666,  18735,  34363,  32530,  35778, 118305,  35772,  17806,\n",
       "        20228,  31434,  47816,  41276,  30118,  51430,  23726,  23897,\n",
       "        50695,  48009,  50133,  46993,  40435,  26371,  27191,  46270,\n",
       "        53876,  51669,  46592,  46190,  19633,  32952,  41978,  70011,\n",
       "        68449,  53297,  44710,  28629,  27188,  54483,  47158,  55856,\n",
       "        23675,  17472,  15799,  28465,  54829,  43357,  66911,  19439,\n",
       "        18978,  15918,  26225,  55906,  61063,  88875,  59225,  50035,\n",
       "        30142,  30479,  61186,  60586,  63354,  65215,  52745,  29276,\n",
       "        41848,  59548,  65920,  58915,  56126,  56855,  28879,  34479,\n",
       "        60315,  64301,  60669,  59193,  49215,  28148,  32457,  54553,\n",
       "        54336,  54388,  46833,  43177,  29817,  35617,  41509,  60342,\n",
       "        43501,  52096,  59540,  31813,  24320,  65667,  46903,  46581,\n",
       "        58884,  47524,  34801,  29543,  56000,  73202,  67641,  60831,\n",
       "        60010,  32596,  40329,  60630,  70403,  74897,  63966,  58490,\n",
       "       100780,  36706,  69621,  94798,  73482,  82222,  73789,  42262,\n",
       "        44667,  83508,  89029,  84611,  90470,  74777,  45124,  52523,\n",
       "        90306,  89940,  91375,  70962,  98233,  46402,  39327,  80287,\n",
       "        97264,  87196,  57283,  31864,  32215,  61836,  64717,  81423,\n",
       "        70256,  83581,  54203,  34559,  37231,  74030,  63310,  61179,\n",
       "        68045,  56000,  45119,  34258,  60666, 207691,  43288,  63416,\n",
       "        36346,  46630,  57736,  67740,  81892,  70459,  70909,  32984,\n",
       "        43096,  38973,  80940,  68449,  80780,  68595,  69690,  33182,\n",
       "        36153,  68207,  72226,  83890,  75818,  60551,  27463,  54541,\n",
       "        73024,  78507,  78257,  82368,  67457,  37517,  35259,  70072,\n",
       "        77700,  62717,  47885,  60479,  57085,  39820,  56818, 112170,\n",
       "        74006,  42626,  59328,  64366,  31030,  64075,  73290,  87795,\n",
       "        72280,  57899,  40012,  43382,  78141,   8679])"
      ]
     },
     "execution_count": 117,
     "metadata": {},
     "output_type": "execute_result"
    }
   ],
   "source": [
    "df_sum.confirmed_cases.values"
   ]
  },
  {
   "cell_type": "code",
   "execution_count": 118,
   "metadata": {
    "editable": true
   },
   "outputs": [
    {
     "data": {
      "text/plain": [
       "<matplotlib.axes._subplots.AxesSubplot at 0x7f17dce135f8>"
      ]
     },
     "execution_count": 118,
     "metadata": {},
     "output_type": "execute_result"
    },
    {
     "data": {
      "image/png": "[encoded data removed]",
      "text/plain": [
       "<matplotlib.figure.Figure at 0x7f17dcde26a0>"
      ]
     },
     "metadata": {
      "needs_background": "light"
     },
     "output_type": "display_data"
    }
   ],
   "source": [
    "# Exploring the data in order to check for missing values, wrong values or  data\n",
    "confirmed_cases = df_sum.confirmed_cases.values\n",
    "deaths = df_sum.deaths.values\n",
    "index = df_sum.date.values\n",
    "df_plot = pd.DataFrame({'Confirmed Cases': confirmed_cases,'Deaths': deaths}, index=index)\n",
    "df_plot['Confirmed Cases'].plot(figsize=(23, 6), legend=True)\n",
    "df_plot['Deaths'].plot(secondary_y=True, legend=True)"
   ]
  },
  {
   "cell_type": "code",
   "execution_count": 119,
   "metadata": {
    "editable": true
   },
   "outputs": [
    {
     "data": {
      "text/html": [
       "<div>\n",
       "<style scoped>\n",
       "    .dataframe tbody tr th:only-of-type {\n",
       "        vertical-align: middle;\n",
       "    }\n",
       "\n",
       "    .dataframe tbody tr th {\n",
       "        vertical-align: top;\n",
       "    }\n",
       "\n",
       "    .dataframe thead th {\n",
       "        text-align: right;\n",
       "    }\n",
       "</style>\n",
       "<table border=\"1\" class=\"dataframe\">\n",
       "  <thead>\n",
       "    <tr style=\"text-align: right;\">\n",
       "      <th></th>\n",
       "      <th>city</th>\n",
       "      <th>city_ibge_code</th>\n",
       "      <th>date</th>\n",
       "      <th>epidemiological_week</th>\n",
       "      <th>estimated_population</th>\n",
       "      <th>estimated_population_2019</th>\n",
       "      <th>is_last</th>\n",
       "      <th>is_repeated</th>\n",
       "      <th>last_available_confirmed</th>\n",
       "      <th>last_available_confirmed_per_100k_inhabitants</th>\n",
       "      <th>last_available_date</th>\n",
       "      <th>last_available_death_rate</th>\n",
       "      <th>last_available_deaths</th>\n",
       "      <th>order_for_place</th>\n",
       "      <th>place_type</th>\n",
       "      <th>state</th>\n",
       "      <th>new_confirmed</th>\n",
       "      <th>new_deaths</th>\n",
       "    </tr>\n",
       "  </thead>\n",
       "  <tbody>\n",
       "    <tr>\n",
       "      <th>0</th>\n",
       "      <td>Amparo</td>\n",
       "      <td>3501905</td>\n",
       "      <td>2021-06-16</td>\n",
       "      <td>202124</td>\n",
       "      <td>72677</td>\n",
       "      <td>72195</td>\n",
       "      <td>False</td>\n",
       "      <td>True</td>\n",
       "      <td>5728</td>\n",
       "      <td>7881.44805</td>\n",
       "      <td>2021-06-15</td>\n",
       "      <td>0.0225</td>\n",
       "      <td>129</td>\n",
       "      <td>432</td>\n",
       "      <td>city</td>\n",
       "      <td>SP</td>\n",
       "      <td>0</td>\n",
       "      <td>0</td>\n",
       "    </tr>\n",
       "    <tr>\n",
       "      <th>1</th>\n",
       "      <td>Amparo</td>\n",
       "      <td>3501905</td>\n",
       "      <td>2021-06-15</td>\n",
       "      <td>202124</td>\n",
       "      <td>72677</td>\n",
       "      <td>72195</td>\n",
       "      <td>True</td>\n",
       "      <td>False</td>\n",
       "      <td>5728</td>\n",
       "      <td>7881.44805</td>\n",
       "      <td>2021-06-15</td>\n",
       "      <td>0.0225</td>\n",
       "      <td>129</td>\n",
       "      <td>431</td>\n",
       "      <td>city</td>\n",
       "      <td>SP</td>\n",
       "      <td>106</td>\n",
       "      <td>0</td>\n",
       "    </tr>\n",
       "    <tr>\n",
       "      <th>2</th>\n",
       "      <td>Amparo</td>\n",
       "      <td>3501905</td>\n",
       "      <td>2021-06-14</td>\n",
       "      <td>202124</td>\n",
       "      <td>72677</td>\n",
       "      <td>72195</td>\n",
       "      <td>False</td>\n",
       "      <td>True</td>\n",
       "      <td>5622</td>\n",
       "      <td>7735.59723</td>\n",
       "      <td>2021-06-13</td>\n",
       "      <td>0.0229</td>\n",
       "      <td>129</td>\n",
       "      <td>430</td>\n",
       "      <td>city</td>\n",
       "      <td>SP</td>\n",
       "      <td>0</td>\n",
       "      <td>0</td>\n",
       "    </tr>\n",
       "    <tr>\n",
       "      <th>3</th>\n",
       "      <td>Amparo</td>\n",
       "      <td>3501905</td>\n",
       "      <td>2021-06-13</td>\n",
       "      <td>202124</td>\n",
       "      <td>72677</td>\n",
       "      <td>72195</td>\n",
       "      <td>False</td>\n",
       "      <td>False</td>\n",
       "      <td>5622</td>\n",
       "      <td>7735.59723</td>\n",
       "      <td>2021-06-13</td>\n",
       "      <td>0.0229</td>\n",
       "      <td>129</td>\n",
       "      <td>429</td>\n",
       "      <td>city</td>\n",
       "      <td>SP</td>\n",
       "      <td>29</td>\n",
       "      <td>0</td>\n",
       "    </tr>\n",
       "    <tr>\n",
       "      <th>4</th>\n",
       "      <td>Amparo</td>\n",
       "      <td>3501905</td>\n",
       "      <td>2021-06-12</td>\n",
       "      <td>202123</td>\n",
       "      <td>72677</td>\n",
       "      <td>72195</td>\n",
       "      <td>False</td>\n",
       "      <td>False</td>\n",
       "      <td>5593</td>\n",
       "      <td>7695.69465</td>\n",
       "      <td>2021-06-12</td>\n",
       "      <td>0.0231</td>\n",
       "      <td>129</td>\n",
       "      <td>428</td>\n",
       "      <td>city</td>\n",
       "      <td>SP</td>\n",
       "      <td>33</td>\n",
       "      <td>0</td>\n",
       "    </tr>\n",
       "    <tr>\n",
       "      <th>5</th>\n",
       "      <td>Amparo</td>\n",
       "      <td>3501905</td>\n",
       "      <td>2021-06-11</td>\n",
       "      <td>202123</td>\n",
       "      <td>72677</td>\n",
       "      <td>72195</td>\n",
       "      <td>False</td>\n",
       "      <td>False</td>\n",
       "      <td>5560</td>\n",
       "      <td>7650.28826</td>\n",
       "      <td>2021-06-11</td>\n",
       "      <td>0.0232</td>\n",
       "      <td>129</td>\n",
       "      <td>427</td>\n",
       "      <td>city</td>\n",
       "      <td>SP</td>\n",
       "      <td>59</td>\n",
       "      <td>0</td>\n",
       "    </tr>\n",
       "    <tr>\n",
       "      <th>6</th>\n",
       "      <td>Amparo</td>\n",
       "      <td>3501905</td>\n",
       "      <td>2021-06-10</td>\n",
       "      <td>202123</td>\n",
       "      <td>72677</td>\n",
       "      <td>72195</td>\n",
       "      <td>False</td>\n",
       "      <td>False</td>\n",
       "      <td>5501</td>\n",
       "      <td>7569.10715</td>\n",
       "      <td>2021-06-10</td>\n",
       "      <td>0.0235</td>\n",
       "      <td>129</td>\n",
       "      <td>426</td>\n",
       "      <td>city</td>\n",
       "      <td>SP</td>\n",
       "      <td>51</td>\n",
       "      <td>0</td>\n",
       "    </tr>\n",
       "    <tr>\n",
       "      <th>7</th>\n",
       "      <td>Amparo</td>\n",
       "      <td>3501905</td>\n",
       "      <td>2021-06-09</td>\n",
       "      <td>202123</td>\n",
       "      <td>72677</td>\n",
       "      <td>72195</td>\n",
       "      <td>False</td>\n",
       "      <td>False</td>\n",
       "      <td>5450</td>\n",
       "      <td>7498.93364</td>\n",
       "      <td>2021-06-09</td>\n",
       "      <td>0.0237</td>\n",
       "      <td>129</td>\n",
       "      <td>425</td>\n",
       "      <td>city</td>\n",
       "      <td>SP</td>\n",
       "      <td>0</td>\n",
       "      <td>0</td>\n",
       "    </tr>\n",
       "    <tr>\n",
       "      <th>8</th>\n",
       "      <td>Amparo</td>\n",
       "      <td>3501905</td>\n",
       "      <td>2021-06-08</td>\n",
       "      <td>202123</td>\n",
       "      <td>72677</td>\n",
       "      <td>72195</td>\n",
       "      <td>False</td>\n",
       "      <td>False</td>\n",
       "      <td>5450</td>\n",
       "      <td>7498.93364</td>\n",
       "      <td>2021-06-08</td>\n",
       "      <td>0.0237</td>\n",
       "      <td>129</td>\n",
       "      <td>424</td>\n",
       "      <td>city</td>\n",
       "      <td>SP</td>\n",
       "      <td>49</td>\n",
       "      <td>0</td>\n",
       "    </tr>\n",
       "    <tr>\n",
       "      <th>9</th>\n",
       "      <td>Amparo</td>\n",
       "      <td>3501905</td>\n",
       "      <td>2021-06-07</td>\n",
       "      <td>202123</td>\n",
       "      <td>72677</td>\n",
       "      <td>72195</td>\n",
       "      <td>False</td>\n",
       "      <td>False</td>\n",
       "      <td>5401</td>\n",
       "      <td>7431.51203</td>\n",
       "      <td>2021-06-07</td>\n",
       "      <td>0.0239</td>\n",
       "      <td>129</td>\n",
       "      <td>423</td>\n",
       "      <td>city</td>\n",
       "      <td>SP</td>\n",
       "      <td>6</td>\n",
       "      <td>0</td>\n",
       "    </tr>\n",
       "  </tbody>\n",
       "</table>\n",
       "</div>"
      ],
      "text/plain": [
       "     city  city_ibge_code        date epidemiological_week  \\\n",
       "0  Amparo         3501905  2021-06-16               202124   \n",
       "1  Amparo         3501905  2021-06-15               202124   \n",
       "2  Amparo         3501905  2021-06-14               202124   \n",
       "3  Amparo         3501905  2021-06-13               202124   \n",
       "4  Amparo         3501905  2021-06-12               202123   \n",
       "5  Amparo         3501905  2021-06-11               202123   \n",
       "6  Amparo         3501905  2021-06-10               202123   \n",
       "7  Amparo         3501905  2021-06-09               202123   \n",
       "8  Amparo         3501905  2021-06-08               202123   \n",
       "9  Amparo         3501905  2021-06-07               202123   \n",
       "\n",
       "  estimated_population estimated_population_2019  is_last  is_repeated  \\\n",
       "0                72677                     72195    False         True   \n",
       "1                72677                     72195     True        False   \n",
       "2                72677                     72195    False         True   \n",
       "3                72677                     72195    False        False   \n",
       "4                72677                     72195    False        False   \n",
       "5                72677                     72195    False        False   \n",
       "6                72677                     72195    False        False   \n",
       "7                72677                     72195    False        False   \n",
       "8                72677                     72195    False        False   \n",
       "9                72677                     72195    False        False   \n",
       "\n",
       "  last_available_confirmed last_available_confirmed_per_100k_inhabitants  \\\n",
       "0                     5728                                    7881.44805   \n",
       "1                     5728                                    7881.44805   \n",
       "2                     5622                                    7735.59723   \n",
       "3                     5622                                    7735.59723   \n",
       "4                     5593                                    7695.69465   \n",
       "5                     5560                                    7650.28826   \n",
       "6                     5501                                    7569.10715   \n",
       "7                     5450                                    7498.93364   \n",
       "8                     5450                                    7498.93364   \n",
       "9                     5401                                    7431.51203   \n",
       "\n",
       "  last_available_date last_available_death_rate last_available_deaths  \\\n",
       "0          2021-06-15                    0.0225                   129   \n",
       "1          2021-06-15                    0.0225                   129   \n",
       "2          2021-06-13                    0.0229                   129   \n",
       "3          2021-06-13                    0.0229                   129   \n",
       "4          2021-06-12                    0.0231                   129   \n",
       "5          2021-06-11                    0.0232                   129   \n",
       "6          2021-06-10                    0.0235                   129   \n",
       "7          2021-06-09                    0.0237                   129   \n",
       "8          2021-06-08                    0.0237                   129   \n",
       "9          2021-06-07                    0.0239                   129   \n",
       "\n",
       "   order_for_place place_type state  new_confirmed  new_deaths  \n",
       "0              432       city    SP              0           0  \n",
       "1              431       city    SP            106           0  \n",
       "2              430       city    SP              0           0  \n",
       "3              429       city    SP             29           0  \n",
       "4              428       city    SP             33           0  \n",
       "5              427       city    SP             59           0  \n",
       "6              426       city    SP             51           0  \n",
       "7              425       city    SP              0           0  \n",
       "8              424       city    SP             49           0  \n",
       "9              423       city    SP              6           0  "
      ]
     },
     "execution_count": 119,
     "metadata": {},
     "output_type": "execute_result"
    }
   ],
   "source": [
    "# Getting one city sample in order to check the data\n",
    "df_cleaned.filter(df_cleaned.city=='Amparo').sort(df_cleaned.order_for_place.desc()).limit(10).toPandas()"
   ]
  },
  {
   "cell_type": "markdown",
   "metadata": {
    "editable": true
   },
   "source": [
    "#### Cleaning the Cities Region dataset"
   ]
  },
  {
   "cell_type": "code",
   "execution_count": 120,
   "metadata": {
    "editable": true
   },
   "outputs": [
    {
     "name": "stdout",
     "output_type": "stream",
     "text": [
      "root\n",
      " |-- UF: string (nullable = true)\n",
      " |-- Nome_UF: string (nullable = true)\n",
      " |-- Mesorregião Geográfica: string (nullable = true)\n",
      " |-- Nome_Mesorregião: string (nullable = true)\n",
      " |-- Microrregião Geográfica: string (nullable = true)\n",
      " |-- Nome_Microrregião: string (nullable = true)\n",
      " |-- Município: string (nullable = true)\n",
      " |-- Código Município Completo: string (nullable = true)\n",
      " |-- Nome_Município: string (nullable = true)\n",
      "\n"
     ]
    }
   ],
   "source": [
    "df_cities_region.printSchema()"
   ]
  },
  {
   "cell_type": "code",
   "execution_count": 121,
   "metadata": {
    "editable": true
   },
   "outputs": [
    {
     "name": "stdout",
     "output_type": "stream",
     "text": [
      "root\n",
      " |-- code_state: string (nullable = true)\n",
      " |-- state_name: string (nullable = true)\n",
      " |-- code_macro_region: integer (nullable = true)\n",
      " |-- macro_region_name: string (nullable = true)\n",
      " |-- code_micro_region: integer (nullable = true)\n",
      " |-- micro_region_name: string (nullable = true)\n",
      " |-- code_city: integer (nullable = true)\n",
      " |-- city_ibge_code: integer (nullable = true)\n",
      " |-- city_name: string (nullable = true)\n",
      "\n"
     ]
    }
   ],
   "source": [
    "#Rename columsn to english\n",
    "df_cities_region_cleaned = df_cities_region\n",
    "df_cities_region_cleaned = df_cities_region_cleaned.withColumnRenamed(\"UF\", \"code_state\")\n",
    "df_cities_region_cleaned = df_cities_region_cleaned.withColumnRenamed(\"Nome_UF\", \"state_name\")\n",
    "df_cities_region_cleaned = df_cities_region_cleaned.withColumnRenamed(\"Mesorregião Geográfica\", \"code_macro_region\")\n",
    "df_cities_region_cleaned = df_cities_region_cleaned.withColumnRenamed(\"Nome_Mesorregião\", \"macro_region_name\")\n",
    "df_cities_region_cleaned = df_cities_region_cleaned.withColumnRenamed(\"Microrregião Geográfica\", \"code_micro_region\")\n",
    "df_cities_region_cleaned = df_cities_region_cleaned.withColumnRenamed(\"Nome_Microrregião\", \"micro_region_name\")\n",
    "df_cities_region_cleaned = df_cities_region_cleaned.withColumnRenamed(\"Município\", \"code_city\")\n",
    "df_cities_region_cleaned = df_cities_region_cleaned.withColumnRenamed(\"Código Município Completo\", \"city_ibge_code\")\n",
    "df_cities_region_cleaned = df_cities_region_cleaned.withColumnRenamed(\"Nome_Município\", \"city_name\")\n",
    "\n",
    "# Cast some fields\n",
    "df_cities_region_cleaned = perform_column_cast(df_cities_region_cleaned, \"city_ibge_code\", 'int')\n",
    "df_cities_region_cleaned = perform_column_cast(df_cities_region_cleaned, \"code_city\", 'int')\n",
    "df_cities_region_cleaned = perform_column_cast(df_cities_region_cleaned, \"code_micro_region\", 'int')\n",
    "df_cities_region_cleaned = perform_column_cast(df_cities_region_cleaned, \"code_macro_region\", 'int')\n",
    "\n",
    "#Print to check the changes\n",
    "df_cities_region_cleaned.printSchema()"
   ]
  },
  {
   "cell_type": "markdown",
   "metadata": {
    "editable": true
   },
   "source": [
    "### Step 3: Define the Data Model\n",
    "#### 3.1 Conceptual Data Model\n",
    "The model will be basically divided in three tables using a **snowflake** schema.\n",
    "In this way we can keep each entity in a table, it's better to enrich and we avoid a lot of repeated data(as the city was in the original dataset).\n",
    "For the queries we can use the 'city_ibge_code' (used here a ForeignKey) to join events with the city and all information about that. The same for the date using the 'date' field.\n",
    "\n",
    "1. Cities\n",
    "1. Events\n",
    "1. Calendar<br>\n",
    "\n",
    "<img src=\"schema.png\">\n",
    "\n",
    "#### 3.2 Mapping Out Data Pipelines\n",
    "The data was cleaned previously, now we will insert in to parquet and make a join to enrich the city data with more information"
   ]
  },
  {
   "cell_type": "markdown",
   "metadata": {
    "editable": true
   },
   "source": [
    "### Step 4: Run Pipelines to Model the Data \n",
    "#### 4.1 Create the data model"
   ]
  },
  {
   "cell_type": "code",
   "execution_count": 122,
   "metadata": {
    "editable": true
   },
   "outputs": [],
   "source": [
    "#output folder to save parquest files\n",
    "output_folder = \"result_tables/\"\n",
    "\n",
    "def save_to_parquet(dataframe, parquet_file_path, partition_columns, mode=\"overwrite\"):\n",
    "    \"\"\"\n",
    "        Method to save a dataframe to a parquet file\n",
    "        @param dataframe: The dataframe which the data will be saved on the parquet file\n",
    "        @param parquet_file_path: parquet file path\n",
    "        @param partition_columns: list of column names which will be used for the partition of parquet files\n",
    "        @return none\n",
    "    \"\"\"\n",
    "    dataframe.write.parquet(parquet_file_path, partitionBy=partition_columns, mode=mode)\n",
    "    "
   ]
  },
  {
   "cell_type": "code",
   "execution_count": 123,
   "metadata": {
    "editable": true
   },
   "outputs": [],
   "source": [
    "# Make the calendar table, getting the date and breaking down in more specific columns\n",
    "df_cal = df_cleaned.select(col('date')).withColumn('date', df_cleaned.date.cast(DateType())).distinct()\n",
    "df_cal = df_cal.withColumn('day', dayofmonth('date'))\n",
    "df_cal = df_cal.withColumn('week', weekofyear('date'))\n",
    "df_cal = df_cal.withColumn('month', month('date'))\n",
    "df_cal = df_cal.withColumn('year', year('date'))\n",
    "df_cal = df_cal.withColumn('weekday', dayofweek('date'))\n",
    "\n",
    "partition_columns = ['year', 'month', 'week']\n",
    "\n",
    "save_to_parquet(df_cal, output_folder + \"calendar\", partition_columns)"
   ]
  },
  {
   "cell_type": "code",
   "execution_count": 124,
   "metadata": {
    "editable": true
   },
   "outputs": [],
   "source": [
    "# Join covid cases with city region info\n",
    "df_all = df_cleaned.join(df_cities_region_cleaned, df_cleaned.city_ibge_code ==  df_cities_region_cleaned.city_ibge_code, \"inner\")\n",
    "\n",
    "df_all = df_all.drop(df_cleaned.city_ibge_code)"
   ]
  },
  {
   "cell_type": "code",
   "execution_count": 125,
   "metadata": {
    "editable": true
   },
   "outputs": [
    {
     "data": {
      "text/html": [
       "<div>\n",
       "<style scoped>\n",
       "    .dataframe tbody tr th:only-of-type {\n",
       "        vertical-align: middle;\n",
       "    }\n",
       "\n",
       "    .dataframe tbody tr th {\n",
       "        vertical-align: top;\n",
       "    }\n",
       "\n",
       "    .dataframe thead th {\n",
       "        text-align: right;\n",
       "    }\n",
       "</style>\n",
       "<table border=\"1\" class=\"dataframe\">\n",
       "  <thead>\n",
       "    <tr style=\"text-align: right;\">\n",
       "      <th></th>\n",
       "      <th>city</th>\n",
       "      <th>date</th>\n",
       "      <th>epidemiological_week</th>\n",
       "      <th>estimated_population</th>\n",
       "      <th>estimated_population_2019</th>\n",
       "      <th>is_last</th>\n",
       "      <th>is_repeated</th>\n",
       "      <th>last_available_confirmed</th>\n",
       "      <th>last_available_confirmed_per_100k_inhabitants</th>\n",
       "      <th>last_available_date</th>\n",
       "      <th>...</th>\n",
       "      <th>new_deaths</th>\n",
       "      <th>code_state</th>\n",
       "      <th>state_name</th>\n",
       "      <th>code_macro_region</th>\n",
       "      <th>macro_region_name</th>\n",
       "      <th>code_micro_region</th>\n",
       "      <th>micro_region_name</th>\n",
       "      <th>code_city</th>\n",
       "      <th>city_ibge_code</th>\n",
       "      <th>city_name</th>\n",
       "    </tr>\n",
       "  </thead>\n",
       "  <tbody>\n",
       "    <tr>\n",
       "      <th>0</th>\n",
       "      <td>Rio Branco</td>\n",
       "      <td>2020-03-17</td>\n",
       "      <td>202012</td>\n",
       "      <td>413418</td>\n",
       "      <td>407319</td>\n",
       "      <td>False</td>\n",
       "      <td>False</td>\n",
       "      <td>3</td>\n",
       "      <td>0.72566</td>\n",
       "      <td>2020-03-17</td>\n",
       "      <td>...</td>\n",
       "      <td>0</td>\n",
       "      <td>12</td>\n",
       "      <td>Acre</td>\n",
       "      <td>2</td>\n",
       "      <td>Vale do Acre</td>\n",
       "      <td>4</td>\n",
       "      <td>Rio Branco</td>\n",
       "      <td>401</td>\n",
       "      <td>1200401</td>\n",
       "      <td>Rio Branco</td>\n",
       "    </tr>\n",
       "    <tr>\n",
       "      <th>1</th>\n",
       "      <td>Rio Branco</td>\n",
       "      <td>2020-03-18</td>\n",
       "      <td>202012</td>\n",
       "      <td>413418</td>\n",
       "      <td>407319</td>\n",
       "      <td>False</td>\n",
       "      <td>False</td>\n",
       "      <td>3</td>\n",
       "      <td>0.72566</td>\n",
       "      <td>2020-03-18</td>\n",
       "      <td>...</td>\n",
       "      <td>0</td>\n",
       "      <td>12</td>\n",
       "      <td>Acre</td>\n",
       "      <td>2</td>\n",
       "      <td>Vale do Acre</td>\n",
       "      <td>4</td>\n",
       "      <td>Rio Branco</td>\n",
       "      <td>401</td>\n",
       "      <td>1200401</td>\n",
       "      <td>Rio Branco</td>\n",
       "    </tr>\n",
       "    <tr>\n",
       "      <th>2</th>\n",
       "      <td>Rio Branco</td>\n",
       "      <td>2020-03-19</td>\n",
       "      <td>202012</td>\n",
       "      <td>413418</td>\n",
       "      <td>407319</td>\n",
       "      <td>False</td>\n",
       "      <td>False</td>\n",
       "      <td>4</td>\n",
       "      <td>0.96754</td>\n",
       "      <td>2020-03-19</td>\n",
       "      <td>...</td>\n",
       "      <td>0</td>\n",
       "      <td>12</td>\n",
       "      <td>Acre</td>\n",
       "      <td>2</td>\n",
       "      <td>Vale do Acre</td>\n",
       "      <td>4</td>\n",
       "      <td>Rio Branco</td>\n",
       "      <td>401</td>\n",
       "      <td>1200401</td>\n",
       "      <td>Rio Branco</td>\n",
       "    </tr>\n",
       "    <tr>\n",
       "      <th>3</th>\n",
       "      <td>Rio Branco</td>\n",
       "      <td>2020-03-20</td>\n",
       "      <td>202012</td>\n",
       "      <td>413418</td>\n",
       "      <td>407319</td>\n",
       "      <td>False</td>\n",
       "      <td>False</td>\n",
       "      <td>7</td>\n",
       "      <td>1.69320</td>\n",
       "      <td>2020-03-20</td>\n",
       "      <td>...</td>\n",
       "      <td>0</td>\n",
       "      <td>12</td>\n",
       "      <td>Acre</td>\n",
       "      <td>2</td>\n",
       "      <td>Vale do Acre</td>\n",
       "      <td>4</td>\n",
       "      <td>Rio Branco</td>\n",
       "      <td>401</td>\n",
       "      <td>1200401</td>\n",
       "      <td>Rio Branco</td>\n",
       "    </tr>\n",
       "    <tr>\n",
       "      <th>4</th>\n",
       "      <td>Rio Branco</td>\n",
       "      <td>2020-03-21</td>\n",
       "      <td>202012</td>\n",
       "      <td>413418</td>\n",
       "      <td>407319</td>\n",
       "      <td>False</td>\n",
       "      <td>False</td>\n",
       "      <td>11</td>\n",
       "      <td>2.66075</td>\n",
       "      <td>2020-03-21</td>\n",
       "      <td>...</td>\n",
       "      <td>0</td>\n",
       "      <td>12</td>\n",
       "      <td>Acre</td>\n",
       "      <td>2</td>\n",
       "      <td>Vale do Acre</td>\n",
       "      <td>4</td>\n",
       "      <td>Rio Branco</td>\n",
       "      <td>401</td>\n",
       "      <td>1200401</td>\n",
       "      <td>Rio Branco</td>\n",
       "    </tr>\n",
       "  </tbody>\n",
       "</table>\n",
       "<p>5 rows × 26 columns</p>\n",
       "</div>"
      ],
      "text/plain": [
       "         city        date epidemiological_week estimated_population  \\\n",
       "0  Rio Branco  2020-03-17               202012               413418   \n",
       "1  Rio Branco  2020-03-18               202012               413418   \n",
       "2  Rio Branco  2020-03-19               202012               413418   \n",
       "3  Rio Branco  2020-03-20               202012               413418   \n",
       "4  Rio Branco  2020-03-21               202012               413418   \n",
       "\n",
       "  estimated_population_2019  is_last  is_repeated last_available_confirmed  \\\n",
       "0                    407319    False        False                        3   \n",
       "1                    407319    False        False                        3   \n",
       "2                    407319    False        False                        4   \n",
       "3                    407319    False        False                        7   \n",
       "4                    407319    False        False                       11   \n",
       "\n",
       "  last_available_confirmed_per_100k_inhabitants last_available_date  \\\n",
       "0                                       0.72566          2020-03-17   \n",
       "1                                       0.72566          2020-03-18   \n",
       "2                                       0.96754          2020-03-19   \n",
       "3                                       1.69320          2020-03-20   \n",
       "4                                       2.66075          2020-03-21   \n",
       "\n",
       "      ...     new_deaths code_state  state_name code_macro_region  \\\n",
       "0     ...              0         12        Acre                 2   \n",
       "1     ...              0         12        Acre                 2   \n",
       "2     ...              0         12        Acre                 2   \n",
       "3     ...              0         12        Acre                 2   \n",
       "4     ...              0         12        Acre                 2   \n",
       "\n",
       "  macro_region_name  code_micro_region  micro_region_name code_city  \\\n",
       "0      Vale do Acre                  4         Rio Branco       401   \n",
       "1      Vale do Acre                  4         Rio Branco       401   \n",
       "2      Vale do Acre                  4         Rio Branco       401   \n",
       "3      Vale do Acre                  4         Rio Branco       401   \n",
       "4      Vale do Acre                  4         Rio Branco       401   \n",
       "\n",
       "  city_ibge_code   city_name  \n",
       "0        1200401  Rio Branco  \n",
       "1        1200401  Rio Branco  \n",
       "2        1200401  Rio Branco  \n",
       "3        1200401  Rio Branco  \n",
       "4        1200401  Rio Branco  \n",
       "\n",
       "[5 rows x 26 columns]"
      ]
     },
     "execution_count": 125,
     "metadata": {},
     "output_type": "execute_result"
    }
   ],
   "source": [
    "df_all.limit(5).toPandas()"
   ]
  },
  {
   "cell_type": "code",
   "execution_count": 126,
   "metadata": {
    "editable": true
   },
   "outputs": [
    {
     "name": "stdout",
     "output_type": "stream",
     "text": [
      "root\n",
      " |-- city: string (nullable = true)\n",
      " |-- date: date (nullable = true)\n",
      " |-- epidemiological_week: string (nullable = true)\n",
      " |-- estimated_population: string (nullable = true)\n",
      " |-- estimated_population_2019: string (nullable = true)\n",
      " |-- is_last: boolean (nullable = true)\n",
      " |-- is_repeated: boolean (nullable = true)\n",
      " |-- last_available_confirmed: string (nullable = true)\n",
      " |-- last_available_confirmed_per_100k_inhabitants: string (nullable = true)\n",
      " |-- last_available_date: string (nullable = true)\n",
      " |-- last_available_death_rate: string (nullable = true)\n",
      " |-- last_available_deaths: string (nullable = true)\n",
      " |-- order_for_place: integer (nullable = true)\n",
      " |-- place_type: string (nullable = true)\n",
      " |-- state: string (nullable = true)\n",
      " |-- new_confirmed: integer (nullable = true)\n",
      " |-- new_deaths: integer (nullable = true)\n",
      " |-- code_state: string (nullable = true)\n",
      " |-- state_name: string (nullable = true)\n",
      " |-- code_macro_region: integer (nullable = true)\n",
      " |-- macro_region_name: string (nullable = true)\n",
      " |-- code_micro_region: integer (nullable = true)\n",
      " |-- micro_region_name: string (nullable = true)\n",
      " |-- code_city: integer (nullable = true)\n",
      " |-- city_ibge_code: integer (nullable = true)\n",
      " |-- city_name: string (nullable = true)\n",
      "\n"
     ]
    }
   ],
   "source": [
    "df_all.printSchema()"
   ]
  },
  {
   "cell_type": "code",
   "execution_count": 127,
   "metadata": {
    "editable": true
   },
   "outputs": [
    {
     "data": {
      "text/html": [
       "<div>\n",
       "<style scoped>\n",
       "    .dataframe tbody tr th:only-of-type {\n",
       "        vertical-align: middle;\n",
       "    }\n",
       "\n",
       "    .dataframe tbody tr th {\n",
       "        vertical-align: top;\n",
       "    }\n",
       "\n",
       "    .dataframe thead th {\n",
       "        text-align: right;\n",
       "    }\n",
       "</style>\n",
       "<table border=\"1\" class=\"dataframe\">\n",
       "  <thead>\n",
       "    <tr style=\"text-align: right;\">\n",
       "      <th></th>\n",
       "      <th>city_ibge_code</th>\n",
       "      <th>city_name</th>\n",
       "      <th>code_city</th>\n",
       "      <th>state</th>\n",
       "      <th>code_state</th>\n",
       "      <th>state_name</th>\n",
       "      <th>code_macro_region</th>\n",
       "      <th>macro_region_name</th>\n",
       "      <th>code_micro_region</th>\n",
       "      <th>micro_region_name</th>\n",
       "      <th>estimated_population</th>\n",
       "      <th>estimated_population_2019</th>\n",
       "    </tr>\n",
       "  </thead>\n",
       "  <tbody>\n",
       "    <tr>\n",
       "      <th>0</th>\n",
       "      <td>2302800</td>\n",
       "      <td>Canindé</td>\n",
       "      <td>2800</td>\n",
       "      <td>CE</td>\n",
       "      <td>23</td>\n",
       "      <td>Ceará</td>\n",
       "      <td>2</td>\n",
       "      <td>Norte Cearense</td>\n",
       "      <td>12</td>\n",
       "      <td>Canindé</td>\n",
       "      <td>77244</td>\n",
       "      <td>76997</td>\n",
       "    </tr>\n",
       "    <tr>\n",
       "      <th>1</th>\n",
       "      <td>3119302</td>\n",
       "      <td>Coromandel</td>\n",
       "      <td>19302</td>\n",
       "      <td>MG</td>\n",
       "      <td>31</td>\n",
       "      <td>Minas Gerais</td>\n",
       "      <td>5</td>\n",
       "      <td>Triângulo Mineiro/Alto Paranaíba</td>\n",
       "      <td>19</td>\n",
       "      <td>Patrocínio</td>\n",
       "      <td>27966</td>\n",
       "      <td>27974</td>\n",
       "    </tr>\n",
       "    <tr>\n",
       "      <th>2</th>\n",
       "      <td>3103306</td>\n",
       "      <td>Aracitaba</td>\n",
       "      <td>3306</td>\n",
       "      <td>MG</td>\n",
       "      <td>31</td>\n",
       "      <td>Minas Gerais</td>\n",
       "      <td>12</td>\n",
       "      <td>Zona da Mata</td>\n",
       "      <td>65</td>\n",
       "      <td>Juiz de Fora</td>\n",
       "      <td>2059</td>\n",
       "      <td>2063</td>\n",
       "    </tr>\n",
       "    <tr>\n",
       "      <th>3</th>\n",
       "      <td>3148806</td>\n",
       "      <td>Pedra do Anta</td>\n",
       "      <td>48806</td>\n",
       "      <td>MG</td>\n",
       "      <td>31</td>\n",
       "      <td>Minas Gerais</td>\n",
       "      <td>12</td>\n",
       "      <td>Zona da Mata</td>\n",
       "      <td>62</td>\n",
       "      <td>Viçosa</td>\n",
       "      <td>3005</td>\n",
       "      <td>3052</td>\n",
       "    </tr>\n",
       "    <tr>\n",
       "      <th>4</th>\n",
       "      <td>5004007</td>\n",
       "      <td>Glória de Dourados</td>\n",
       "      <td>4007</td>\n",
       "      <td>MS</td>\n",
       "      <td>50</td>\n",
       "      <td>Mato Grosso do Sul</td>\n",
       "      <td>4</td>\n",
       "      <td>Sudoeste de Mato Grosso do Sul</td>\n",
       "      <td>11</td>\n",
       "      <td>Iguatemi</td>\n",
       "      <td>9950</td>\n",
       "      <td>9965</td>\n",
       "    </tr>\n",
       "    <tr>\n",
       "      <th>5</th>\n",
       "      <td>5108501</td>\n",
       "      <td>Vera</td>\n",
       "      <td>8501</td>\n",
       "      <td>MT</td>\n",
       "      <td>51</td>\n",
       "      <td>Mato Grosso</td>\n",
       "      <td>1</td>\n",
       "      <td>Norte Mato-grossense</td>\n",
       "      <td>7</td>\n",
       "      <td>Sinop</td>\n",
       "      <td>11402</td>\n",
       "      <td>11309</td>\n",
       "    </tr>\n",
       "    <tr>\n",
       "      <th>6</th>\n",
       "      <td>2602506</td>\n",
       "      <td>Brejinho</td>\n",
       "      <td>2506</td>\n",
       "      <td>PE</td>\n",
       "      <td>26</td>\n",
       "      <td>Pernambuco</td>\n",
       "      <td>1</td>\n",
       "      <td>Sertão Pernambucano</td>\n",
       "      <td>3</td>\n",
       "      <td>Pajeú</td>\n",
       "      <td>7488</td>\n",
       "      <td>7487</td>\n",
       "    </tr>\n",
       "    <tr>\n",
       "      <th>7</th>\n",
       "      <td>2204709</td>\n",
       "      <td>Inhuma</td>\n",
       "      <td>4709</td>\n",
       "      <td>PI</td>\n",
       "      <td>22</td>\n",
       "      <td>Piauí</td>\n",
       "      <td>2</td>\n",
       "      <td>Centro-Norte Piauiense</td>\n",
       "      <td>6</td>\n",
       "      <td>Valença do Piauí</td>\n",
       "      <td>15319</td>\n",
       "      <td>15308</td>\n",
       "    </tr>\n",
       "    <tr>\n",
       "      <th>8</th>\n",
       "      <td>2202737</td>\n",
       "      <td>Coivaras</td>\n",
       "      <td>2737</td>\n",
       "      <td>PI</td>\n",
       "      <td>22</td>\n",
       "      <td>Piauí</td>\n",
       "      <td>2</td>\n",
       "      <td>Centro-Norte Piauiense</td>\n",
       "      <td>3</td>\n",
       "      <td>Teresina</td>\n",
       "      <td>4032</td>\n",
       "      <td>4020</td>\n",
       "    </tr>\n",
       "    <tr>\n",
       "      <th>9</th>\n",
       "      <td>2209500</td>\n",
       "      <td>Santo Inácio do Piauí</td>\n",
       "      <td>9500</td>\n",
       "      <td>PI</td>\n",
       "      <td>22</td>\n",
       "      <td>Piauí</td>\n",
       "      <td>4</td>\n",
       "      <td>Sudeste Piauiense</td>\n",
       "      <td>15</td>\n",
       "      <td>Alto Médio Canindé</td>\n",
       "      <td>3803</td>\n",
       "      <td>3798</td>\n",
       "    </tr>\n",
       "  </tbody>\n",
       "</table>\n",
       "</div>"
      ],
      "text/plain": [
       "   city_ibge_code              city_name  code_city state code_state  \\\n",
       "0         2302800                Canindé       2800    CE         23   \n",
       "1         3119302             Coromandel      19302    MG         31   \n",
       "2         3103306              Aracitaba       3306    MG         31   \n",
       "3         3148806          Pedra do Anta      48806    MG         31   \n",
       "4         5004007     Glória de Dourados       4007    MS         50   \n",
       "5         5108501                   Vera       8501    MT         51   \n",
       "6         2602506               Brejinho       2506    PE         26   \n",
       "7         2204709                 Inhuma       4709    PI         22   \n",
       "8         2202737               Coivaras       2737    PI         22   \n",
       "9         2209500  Santo Inácio do Piauí       9500    PI         22   \n",
       "\n",
       "           state_name  code_macro_region                 macro_region_name  \\\n",
       "0               Ceará                  2                    Norte Cearense   \n",
       "1        Minas Gerais                  5  Triângulo Mineiro/Alto Paranaíba   \n",
       "2        Minas Gerais                 12                      Zona da Mata   \n",
       "3        Minas Gerais                 12                      Zona da Mata   \n",
       "4  Mato Grosso do Sul                  4    Sudoeste de Mato Grosso do Sul   \n",
       "5         Mato Grosso                  1              Norte Mato-grossense   \n",
       "6          Pernambuco                  1               Sertão Pernambucano   \n",
       "7               Piauí                  2            Centro-Norte Piauiense   \n",
       "8               Piauí                  2            Centro-Norte Piauiense   \n",
       "9               Piauí                  4                 Sudeste Piauiense   \n",
       "\n",
       "   code_micro_region   micro_region_name estimated_population  \\\n",
       "0                 12             Canindé                77244   \n",
       "1                 19          Patrocínio                27966   \n",
       "2                 65        Juiz de Fora                 2059   \n",
       "3                 62              Viçosa                 3005   \n",
       "4                 11            Iguatemi                 9950   \n",
       "5                  7               Sinop                11402   \n",
       "6                  3               Pajeú                 7488   \n",
       "7                  6    Valença do Piauí                15319   \n",
       "8                  3            Teresina                 4032   \n",
       "9                 15  Alto Médio Canindé                 3803   \n",
       "\n",
       "  estimated_population_2019  \n",
       "0                     76997  \n",
       "1                     27974  \n",
       "2                      2063  \n",
       "3                      3052  \n",
       "4                      9965  \n",
       "5                     11309  \n",
       "6                      7487  \n",
       "7                     15308  \n",
       "8                      4020  \n",
       "9                      3798  "
      ]
     },
     "execution_count": 127,
     "metadata": {},
     "output_type": "execute_result"
    }
   ],
   "source": [
    "df_city = df_all.select(['city_ibge_code', 'city_name', 'code_city', 'state', 'code_state', 'state_name', \n",
    "                         'code_macro_region', 'macro_region_name', 'code_micro_region', \n",
    "                         'micro_region_name', 'estimated_population', 'estimated_population_2019']).distinct()\n",
    "df_city.limit(10).toPandas()"
   ]
  },
  {
   "cell_type": "code",
   "execution_count": 128,
   "metadata": {
    "editable": true
   },
   "outputs": [],
   "source": [
    "#save cities info to parquet \n",
    "partition_columns = ['state', 'city_ibge_code']\n",
    "\n",
    "save_to_parquet(df_city, output_folder + \"cities\", partition_columns)"
   ]
  },
  {
   "cell_type": "code",
   "execution_count": 129,
   "metadata": {
    "editable": true
   },
   "outputs": [
    {
     "data": {
      "text/plain": [
       "49"
      ]
     },
     "execution_count": 129,
     "metadata": {},
     "output_type": "execute_result"
    }
   ],
   "source": [
    "df_city.filter(col('macro_region_name')=='Campinas').count()"
   ]
  },
  {
   "cell_type": "code",
   "execution_count": 130,
   "metadata": {
    "editable": true
   },
   "outputs": [],
   "source": [
    "#Save covid events to parquet\n",
    "df_events = df_all.filter(df_all.macro_region_name=='Campinas').select(col('date'), col('city_ibge_code'), col('new_deaths'), col('new_confirmed'))\n",
    "\n",
    "partition_columns = ['date', 'city_ibge_code']\n",
    "save_to_parquet(df_events, output_folder + \"events\", partition_columns)"
   ]
  },
  {
   "cell_type": "markdown",
   "metadata": {
    "editable": true
   },
   "source": [
    "#### 4.2 Data Quality Checks\n",
    "The data quality will check for:\n",
    " * Integrity of the table schemas\n",
    " * Verify for empty tables"
   ]
  },
  {
   "cell_type": "code",
   "execution_count": 131,
   "metadata": {
    "editable": true
   },
   "outputs": [],
   "source": [
    "# Perform quality checks here\n",
    "\n",
    "def run_quality_checks(table_schemas):\n",
    "    \"\"\"\n",
    "        Method to run the quality checks against the tables\n",
    "        \n",
    "        @Param: table_schemas -> Dict containing the table name and the collums\n",
    "        @return: List of issues\n",
    "    \"\"\"\n",
    "\n",
    "    tables_to_check = table_schemas.keys()\n",
    "    failed_list=[]\n",
    "    for table in tables_to_check:\n",
    "        parquetFile = spark.read.parquet(output_folder + table)\n",
    "\n",
    "        # Check for the empty parquet file\n",
    "        if parquetFile.count() <= 0:\n",
    "            failed_list.append(\"Table {} is empty.\")\n",
    "        # Compare the schema to check the table integrity\n",
    "        if len((set(parquetFile.columns) ^ set(table_schemas.get(table))) | (set(parquetFile.columns) ^ set(table_schemas.get(table)))) > 0:\n",
    "            failed_list.append(\"Table '{}' has discrepancies in the schema.\".format(table))\n",
    "            \n",
    "    return failed_list"
   ]
  },
  {
   "cell_type": "code",
   "execution_count": 132,
   "metadata": {
    "editable": true
   },
   "outputs": [
    {
     "name": "stdout",
     "output_type": "stream",
     "text": [
      "Quality Check passed\n"
     ]
    }
   ],
   "source": [
    "# Dict with the table name and it columns\n",
    "table_schemas = {\n",
    "    'calendar': ['date', 'day', 'weekday', 'year', 'month', 'week'],\n",
    "    'cities':   ['city_ibge_code', 'city_name', 'code_city', 'state', 'code_state', 'state_name', \n",
    "                 'code_macro_region', 'macro_region_name', 'code_micro_region', \n",
    "                 'micro_region_name', 'estimated_population', 'estimated_population_2019'],\n",
    "    'events':   ['new_deaths', 'new_confirmed', 'date', 'city_ibge_code']\n",
    "}\n",
    "            \n",
    "failed_list = run_quality_checks(table_schemas)\n",
    "\n",
    "if len(failed_list) > 0:\n",
    "    print(\"We have some erros: \", failed_list)\n",
    "else:\n",
    "    print(\"Quality Check passed\")"
   ]
  },
  {
   "cell_type": "markdown",
   "metadata": {
    "editable": true
   },
   "source": [
    "#### 4.3 Data dictionary "
   ]
  },
  {
   "cell_type": "markdown",
   "metadata": {
    "editable": true
   },
   "source": [
    "#### Calendar table\n",
    "\n",
    "| Column  |Description|\n",
    "|---------|------------|\n",
    "| date    |The date the event happend (yyyy-mm-dd)|\n",
    "| day     |Day (1-31)|\n",
    "| week    |Week (1-53)|\n",
    "| month   |Month (1-12)|\n",
    "| year    |Year (0-9999)|\n",
    "| weekday | Weekday (1-7)|\n",
    "\n",
    "\n",
    "#### Cities table\n",
    "\n",
    "| Column  |Description|\n",
    "|---------|------------|\n",
    "| city_ibge_code    |The code for the IBGE|\n",
    "| city_name     |City name|\n",
    "| code_city    |Code city by IBGE code|\n",
    "| state   |State Acronym (2 chars)|\n",
    "| code_state    |Code for the state by IBGE|\n",
    "| state_name | State name|\n",
    "| code_macro_region | Macro region code by IBGE |\n",
    "| macro_region_name | Macro region mae|\n",
    "| code_micro_region | Code for the micro region by IBGE|\n",
    "| micro_region_name | Micro region mae|\n",
    "| estimated_population | Estimated city population in year 2020 |\n",
    "| estimated_population_2019 | Estimated city population in year 2019 |\n",
    "\n",
    "\n",
    "\n",
    "#### Events table\n",
    "\n",
    "|Column  |Description|\n",
    "|---------|------------|\n",
    "| date    |The date the event happend (yyyy-mm-dd)|\n",
    "| city_ibge_code     |Code by IBGE to identify the city|\n",
    "| new_deaths    |New deaths on the city at the date|\n",
    "| new_confirmed   | New covid confirmed cases on the city at the date|\n"
   ]
  },
  {
   "cell_type": "markdown",
   "metadata": {
    "editable": true
   },
   "source": [
    "### 5 Data Analysis\n",
    "\n",
    "Lets focus the investigation in one macro region, in this case we chose a macro region called **Campinas**, a big region in **São Paulo** state."
   ]
  },
  {
   "cell_type": "code",
   "execution_count": 133,
   "metadata": {
    "editable": true
   },
   "outputs": [],
   "source": [
    "events_pqt_file = spark.read.parquet(output_folder + \"events\")\n",
    "events_pqt_file.createOrReplaceTempView(\"events\")\n",
    "\n",
    "\n",
    "cities_pqt_file = spark.read.parquet(output_folder + \"cities\")\n",
    "cities_pqt_file.createOrReplaceTempView(\"cities\")\n",
    "\n",
    "\n",
    "by_city = spark.sql(\"\"\"\n",
    "SELECT city_name, sum(new_confirmed) as confirmed_cases, sum(new_deaths) deaths, MAX(estimated_population) as pop\n",
    "FROM events e\n",
    "JOIN cities c ON c.city_ibge_code = e.city_ibge_code\n",
    "WHERE c.macro_region_name = 'Campinas'\n",
    "GROUP BY 1\n",
    "\"\"\")\n",
    "df_by_city = by_city.toPandas()"
   ]
  },
  {
   "cell_type": "code",
   "execution_count": 134,
   "metadata": {
    "editable": true
   },
   "outputs": [],
   "source": [
    "df_by_city['cases_per_pop'] = df_by_city['confirmed_cases'] / pd.to_numeric(df_by_city['pop'])"
   ]
  },
  {
   "cell_type": "markdown",
   "metadata": {
    "editable": true
   },
   "source": [
    "On the chart below we can see all the cities from Campinas region.\n",
    "We divided the number of cases by the number of ihanbitants for each city and as we can see on the chart the city which has more cases and maybe need more resources to treat them is Paulínia city followed by Holambra city"
   ]
  },
  {
   "cell_type": "code",
   "execution_count": 135,
   "metadata": {
    "editable": true
   },
   "outputs": [
    {
     "data": {
      "image/png": "[encoded data removed]",
      "text/plain": [
       "<matplotlib.figure.Figure at 0x7f17dce2af98>"
      ]
     },
     "metadata": {
      "needs_background": "light"
     },
     "output_type": "display_data"
    }
   ],
   "source": [
    "ax = df_by_city.sort_values(['cases_per_pop'], ascending = False).plot.bar(x='city_name', y='cases_per_pop', rot=45, figsize=(25,8))"
   ]
  },
  {
   "cell_type": "code",
   "execution_count": 136,
   "metadata": {
    "editable": true
   },
   "outputs": [
    {
     "data": {
      "text/html": [
       "<div>\n",
       "<style scoped>\n",
       "    .dataframe tbody tr th:only-of-type {\n",
       "        vertical-align: middle;\n",
       "    }\n",
       "\n",
       "    .dataframe tbody tr th {\n",
       "        vertical-align: top;\n",
       "    }\n",
       "\n",
       "    .dataframe thead th {\n",
       "        text-align: right;\n",
       "    }\n",
       "</style>\n",
       "<table border=\"1\" class=\"dataframe\">\n",
       "  <thead>\n",
       "    <tr style=\"text-align: right;\">\n",
       "      <th></th>\n",
       "      <th>city_name</th>\n",
       "      <th>confirmed_cases</th>\n",
       "      <th>pop</th>\n",
       "      <th>cases_per_pop</th>\n",
       "    </tr>\n",
       "  </thead>\n",
       "  <tbody>\n",
       "    <tr>\n",
       "      <th>43</th>\n",
       "      <td>Paulínia</td>\n",
       "      <td>12939</td>\n",
       "      <td>112003</td>\n",
       "      <td>0.115524</td>\n",
       "    </tr>\n",
       "    <tr>\n",
       "      <th>16</th>\n",
       "      <td>Holambra</td>\n",
       "      <td>1665</td>\n",
       "      <td>15272</td>\n",
       "      <td>0.109023</td>\n",
       "    </tr>\n",
       "    <tr>\n",
       "      <th>6</th>\n",
       "      <td>Santo Antônio de Posse</td>\n",
       "      <td>2532</td>\n",
       "      <td>23529</td>\n",
       "      <td>0.107612</td>\n",
       "    </tr>\n",
       "    <tr>\n",
       "      <th>46</th>\n",
       "      <td>Divinolândia</td>\n",
       "      <td>1180</td>\n",
       "      <td>11086</td>\n",
       "      <td>0.106441</td>\n",
       "    </tr>\n",
       "    <tr>\n",
       "      <th>36</th>\n",
       "      <td>Engenheiro Coelho</td>\n",
       "      <td>2247</td>\n",
       "      <td>21249</td>\n",
       "      <td>0.105746</td>\n",
       "    </tr>\n",
       "  </tbody>\n",
       "</table>\n",
       "</div>"
      ],
      "text/plain": [
       "                 city_name  confirmed_cases     pop  cases_per_pop\n",
       "43                Paulínia            12939  112003       0.115524\n",
       "16                Holambra             1665   15272       0.109023\n",
       "6   Santo Antônio de Posse             2532   23529       0.107612\n",
       "46            Divinolândia             1180   11086       0.106441\n",
       "36       Engenheiro Coelho             2247   21249       0.105746"
      ]
     },
     "execution_count": 136,
     "metadata": {},
     "output_type": "execute_result"
    }
   ],
   "source": [
    " df_by_city.sort_values(['cases_per_pop'],  ascending = False)[:5][['city_name', 'confirmed_cases', 'pop', 'cases_per_pop']]"
   ]
  },
  {
   "cell_type": "markdown",
   "metadata": {
    "editable": true
   },
   "source": [
    "Here we see the number of deaths divided per number of inhabitants.\n",
    "Now Divinolândia city is the first"
   ]
  },
  {
   "cell_type": "code",
   "execution_count": 137,
   "metadata": {
    "editable": true
   },
   "outputs": [
    {
     "data": {
      "text/html": [
       "<div>\n",
       "<style scoped>\n",
       "    .dataframe tbody tr th:only-of-type {\n",
       "        vertical-align: middle;\n",
       "    }\n",
       "\n",
       "    .dataframe tbody tr th {\n",
       "        vertical-align: top;\n",
       "    }\n",
       "\n",
       "    .dataframe thead th {\n",
       "        text-align: right;\n",
       "    }\n",
       "</style>\n",
       "<table border=\"1\" class=\"dataframe\">\n",
       "  <thead>\n",
       "    <tr style=\"text-align: right;\">\n",
       "      <th></th>\n",
       "      <th>city_name</th>\n",
       "      <th>confirmed_cases</th>\n",
       "      <th>pop</th>\n",
       "      <th>deaths_per_pop</th>\n",
       "      <th>deaths_per_cases</th>\n",
       "    </tr>\n",
       "  </thead>\n",
       "  <tbody>\n",
       "    <tr>\n",
       "      <th>46</th>\n",
       "      <td>Divinolândia</td>\n",
       "      <td>1180</td>\n",
       "      <td>11086</td>\n",
       "      <td>0.414938</td>\n",
       "      <td>3.898305</td>\n",
       "    </tr>\n",
       "    <tr>\n",
       "      <th>33</th>\n",
       "      <td>Mogi Mirim</td>\n",
       "      <td>8512</td>\n",
       "      <td>93650</td>\n",
       "      <td>0.300053</td>\n",
       "      <td>3.301222</td>\n",
       "    </tr>\n",
       "    <tr>\n",
       "      <th>14</th>\n",
       "      <td>Santa Bárbara d'Oeste</td>\n",
       "      <td>17469</td>\n",
       "      <td>194390</td>\n",
       "      <td>0.298369</td>\n",
       "      <td>3.320167</td>\n",
       "    </tr>\n",
       "    <tr>\n",
       "      <th>29</th>\n",
       "      <td>Itapira</td>\n",
       "      <td>6702</td>\n",
       "      <td>75234</td>\n",
       "      <td>0.292421</td>\n",
       "      <td>3.282602</td>\n",
       "    </tr>\n",
       "    <tr>\n",
       "      <th>22</th>\n",
       "      <td>Campinas</td>\n",
       "      <td>88340</td>\n",
       "      <td>1213792</td>\n",
       "      <td>0.288600</td>\n",
       "      <td>3.965361</td>\n",
       "    </tr>\n",
       "  </tbody>\n",
       "</table>\n",
       "</div>"
      ],
      "text/plain": [
       "                city_name  confirmed_cases      pop  deaths_per_pop  \\\n",
       "46           Divinolândia             1180    11086        0.414938   \n",
       "33             Mogi Mirim             8512    93650        0.300053   \n",
       "14  Santa Bárbara d'Oeste            17469   194390        0.298369   \n",
       "29                Itapira             6702    75234        0.292421   \n",
       "22               Campinas            88340  1213792        0.288600   \n",
       "\n",
       "    deaths_per_cases  \n",
       "46          3.898305  \n",
       "33          3.301222  \n",
       "14          3.320167  \n",
       "29          3.282602  \n",
       "22          3.965361  "
      ]
     },
     "execution_count": 137,
     "metadata": {},
     "output_type": "execute_result"
    }
   ],
   "source": [
    "df_by_city['deaths_per_pop'] = (df_by_city['deaths'] / pd.to_numeric(df_by_city['pop'])) * 100\n",
    "df_by_city['deaths_per_cases'] = (df_by_city['deaths'] / pd.to_numeric(df_by_city['confirmed_cases'])) * 100\n",
    "\n",
    "\n",
    "df_by_city.sort_values(['deaths_per_pop'],  ascending = False)[:5][['city_name', 'confirmed_cases', 'pop', 'deaths_per_pop', 'deaths_per_cases']]"
   ]
  },
  {
   "cell_type": "markdown",
   "metadata": {
    "editable": true
   },
   "source": [
    "### Analyzing the 10 most fatal cities\n",
    "\n",
    "\n",
    "#### By population\n",
    "The chart below we can see the 10 most cities where the percentage of deaths per number of total population are the highest.\n",
    "We can see the Divinolância city has a number which differ too much from the second city. May it need to be a attention point."
   ]
  },
  {
   "cell_type": "code",
   "execution_count": 138,
   "metadata": {
    "editable": true,
    "jupyter": {
     "source_hidden": true
    }
   },
   "outputs": [
    {
     "data": {
      "image/png": "[encoded data removed]",
      "text/plain": [
       "<matplotlib.figure.Figure at 0x7f17dd1a7320>"
      ]
     },
     "metadata": {
      "needs_background": "light"
     },
     "output_type": "display_data"
    }
   ],
   "source": [
    "fig = plt.figure(figsize=(20, 8)) # Create matplotlib figure\n",
    "\n",
    "ax = fig.add_subplot(111) # Create matplotlib axes\n",
    "#ax2 = ax.twinx() # Create another axes that shares the same x-axis as ax.\n",
    "\n",
    "ax.set_ylabel('Deaths by total population (%)')\n",
    "ax.set_title('10 most fatal cities (Deaths per total of population)')\n",
    "ax.set_xlabel('Cities')\n",
    "ax.legend()\n",
    "\n",
    "df_by_city.sort_values(['deaths_per_pop'],  ascending = False).plot(x='city_name', y='deaths_per_pop', kind='bar', color='red', ax=ax)\n",
    "\n",
    "plt.show()"
   ]
  },
  {
   "cell_type": "markdown",
   "metadata": {
    "editable": true
   },
   "source": [
    "#### By cases\n",
    "Here we can see the deaths per confirmed cases and Estiva gerbi is the first one where we have the highet percentage of deaths by the confirmed cases, by the  top 5 has a significant difference from the 6th.\n",
    "Maybe something become the cases there more fatal and it could be a less hospiptal infrastructure, delay on the covid patient diagnostic and treatment start."
   ]
  },
  {
   "cell_type": "code",
   "execution_count": 139,
   "metadata": {
    "editable": true,
    "jupyter": {
     "source_hidden": true
    },
    "toggleable": false,
    "ulab": {
     "buttons": {
      "ulab-button-toggle-518bdaa4": {
       "style": "primary"
      }
     }
    }
   },
   "outputs": [
    {
     "data": {
      "image/png": "[encoded data removed]",
      "text/plain": [
       "<matplotlib.figure.Figure at 0x7f17dd108320>"
      ]
     },
     "metadata": {
      "needs_background": "light"
     },
     "output_type": "display_data"
    }
   ],
   "source": [
    "fig = plt.figure(figsize=(20, 8)) # Create matplotlib figure\n",
    "\n",
    "ax = fig.add_subplot(111)\n",
    "\n",
    "ax.set_ylabel('Deaths per cases (%)')\n",
    "ax.set_title('10 most fatal cities by confirmed cases')\n",
    "ax.set_xlabel('Cities')\n",
    "ax.legend()\n",
    "\n",
    "df_by_city.sort_values(['deaths_per_cases'],  ascending = False).plot(x='city_name', y='deaths_per_cases', kind='bar', color='red', ax=ax)\n",
    "\n",
    "plt.show()"
   ]
  },
  {
   "cell_type": "markdown",
   "metadata": {
    "editable": true
   },
   "source": [
    "We can make a lot of analysis based on this simple dataset, also I believe that we can enrich it even more with latitude and longitude and make some analysis bases on the location."
   ]
  },
  {
   "cell_type": "markdown",
   "metadata": {
    "editable": true
   },
   "source": [
    "#### Step 5: Complete Project Write Up\n",
    "* Clearly state the rationale for the choice of tools and technologies for the project.\n",
    "    * PySpark was used because we can increase the amount of data and it will handle well it's very easy to make debug and tests things\n",
    "* Propose how often the data should be updated and why.\n",
    "    * The data should by updated daily, in the end of the data which is when the Brazil Government release the data for all the cities cases\n",
    "* Write a description of how you would approach the problem differently under the following scenarios:\n",
    " * The data was increased by 100x.\n",
    "     * We can increase the Spark cluster, also we can make some improvements in the way we make the join to optimze that. Alternatively, we can use the EMR, once that tool can access the data in various sources(S3, HDFS, Redshift..)\n",
    " * The data populates a dashboard that must be updated on a daily basis by 7am every day.\n",
    "     * Once all the covid data is collected every evening, this dashboard will have the data for the previous day and we can do it using the Airflow as a task orchestrator and PySpark, Redshift or even EMR to transform and process all the data or even just the last day data.\n",
    " * The database needed to be accessed by 100+ people.\n",
    "     * We can use the s3 folder or even a Redshift cluster to save the data. Also we can better agregate the data case we face issues in the performance or network and use a Apache Cassandra (NoSQL) to save that agregatted data to a faster reading"
   ]
  },
  {
   "cell_type": "code",
   "execution_count": null,
   "metadata": {
    "editable": true
   },
   "outputs": [],
   "source": []
  },
  {
   "cell_type": "code",
   "execution_count": 6,
   "metadata": {
    "editable": true
   },
   "outputs": [],
   "source": [
    "# to delete some parquet files\n",
    "import shutil\n",
    "shutil.rmtree('result_tables/calendar')\n"
   ]
  }
 ],
 "metadata": {
  "kernelspec": {
   "display_name": "Python 3",
   "language": "python",
   "name": "python3"
  },
  "language_info": {
   "codemirror_mode": {
    "name": "ipython",
    "version": 3
   },
   "file_extension": ".py",
   "mimetype": "text/x-python",
   "name": "python",
   "nbconvert_exporter": "python",
   "pygments_lexer": "ipython3",
   "version": "3.6.3"
  }
 },
 "nbformat": 4,
 "nbformat_minor": 4
}
